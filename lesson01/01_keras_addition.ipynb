{
  "nbformat": 4,
  "nbformat_minor": 0,
  "metadata": {
    "colab": {
      "name": "01 keras_addition.ipynb",
      "provenance": []
    },
    "kernelspec": {
      "name": "python3",
      "display_name": "Python 3"
    },
    "accelerator": "GPU"
  },
  "cells": [
    {
      "cell_type": "code",
      "metadata": {
        "id": "q04T99EDN7a8",
        "outputId": "f3dd68ec-172b-44af-89cf-fd660b5fda9c",
        "colab": {
          "base_uri": "https://localhost:8080/",
          "height": 87
        }
      },
      "source": [
        "from keras.models import Sequential\n",
        "from keras.layers.core import Dense, Dropout, Activation\n",
        "from keras.optimizers import Adam,SGD\n",
        "import numpy as np\n",
        "\n",
        "#学習データ\n",
        "X = np.array([[1]],dtype=np.float32)\n",
        "y = np.array([[2]],dtype=np.float32)\n",
        "\n",
        "#モデル\n",
        "model = Sequential()\n",
        "model.add(Dense(1))\n",
        "model.compile(loss='mean_squared_error', optimizer='SGD')\n",
        "\n",
        "#学習\n",
        "for i in range(1):\n",
        "    model.fit(X, y, batch_size=1, epochs=1, verbose=0)\n",
        "    print()\n",
        "    print(i+1,\"回目\")\n",
        "    print(np.round(model.predict(X), decimals=2))\n",
        "    print()\n",
        "\n",
        "#予測\n",
        "# print(\"----------------------------------------------\")\n",
        "# print(\"未知データ＝　\",np.round(model.predict(np.array([[1501]],dtype=np.float32))))"
      ],
      "execution_count": 3,
      "outputs": [
        {
          "output_type": "stream",
          "text": [
            "\n",
            "1 回目\n",
            "[[-0.37]]\n",
            "\n"
          ],
          "name": "stdout"
        }
      ]
    }
  ]
}